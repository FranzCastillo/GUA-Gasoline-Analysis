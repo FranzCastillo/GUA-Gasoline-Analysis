{
 "cells": [
  {
   "metadata": {},
   "cell_type": "markdown",
   "source": [
    "# Limpieza de datos\n",
    "Crearemos los archivos necesarios para poder realizar los análisis correspondientes."
   ],
   "id": "5d77f5ff6f0841c"
  },
  {
   "cell_type": "code",
   "id": "initial_id",
   "metadata": {
    "collapsed": true,
    "ExecuteTime": {
     "end_time": "2024-08-01T02:26:26.227241Z",
     "start_time": "2024-08-01T02:26:26.223386Z"
    }
   },
   "source": "import pandas as pd",
   "outputs": [],
   "execution_count": 34
  },
  {
   "metadata": {},
   "cell_type": "markdown",
   "source": "## Consumo de Productos Derivados del Petróleo",
   "id": "43e5d7108595a344"
  },
  {
   "metadata": {},
   "cell_type": "markdown",
   "source": [
    "En la fila 7 se encuentran los títulos de las columnas. Con datos hasta la fila 300.\n",
    "\n",
    "En la columna A se encuentra la fecha, en la columna L se encuentra la gasolina superior, en la K la gasolina regular, en la G el diesel bajo azufre y el gas propano en la I."
   ],
   "id": "54ff31891097facf"
  },
  {
   "metadata": {
    "ExecuteTime": {
     "end_time": "2024-08-01T02:26:26.597603Z",
     "start_time": "2024-08-01T02:26:26.388295Z"
    }
   },
   "cell_type": "code",
   "source": "df = pd.read_excel('data/raw/CONSUMO.xlsx', header=6, nrows=294, usecols='A,G,I,K,L')",
   "id": "27a462380835cbaa",
   "outputs": [],
   "execution_count": 35
  },
  {
   "metadata": {
    "ExecuteTime": {
     "end_time": "2024-08-01T02:26:26.609792Z",
     "start_time": "2024-08-01T02:26:26.599622Z"
    }
   },
   "cell_type": "code",
   "source": "df.tail()",
   "id": "357a970ad97cb6a3",
   "outputs": [
    {
     "data": {
      "text/plain": [
       "         Fecha  Diesel bajo azufre  Gas licuado de petróleo  Gasolina regular  \\\n",
       "288 2024-01-01          1359012.49                548124.45         830708.13   \n",
       "289 2024-02-01          1340174.42                526897.85         818740.16   \n",
       "290 2024-03-01          1393324.52                523990.91         870771.70   \n",
       "291 2024-04-01          1428143.44                531880.19         847353.15   \n",
       "292 2024-05-01          1401052.37                536754.38         894533.14   \n",
       "\n",
       "     Gasolina superior  \n",
       "288          658083.66  \n",
       "289          654059.60  \n",
       "290          671997.05  \n",
       "291          633520.57  \n",
       "292          692427.94  "
      ],
      "text/html": [
       "<div>\n",
       "<style scoped>\n",
       "    .dataframe tbody tr th:only-of-type {\n",
       "        vertical-align: middle;\n",
       "    }\n",
       "\n",
       "    .dataframe tbody tr th {\n",
       "        vertical-align: top;\n",
       "    }\n",
       "\n",
       "    .dataframe thead th {\n",
       "        text-align: right;\n",
       "    }\n",
       "</style>\n",
       "<table border=\"1\" class=\"dataframe\">\n",
       "  <thead>\n",
       "    <tr style=\"text-align: right;\">\n",
       "      <th></th>\n",
       "      <th>Fecha</th>\n",
       "      <th>Diesel bajo azufre</th>\n",
       "      <th>Gas licuado de petróleo</th>\n",
       "      <th>Gasolina regular</th>\n",
       "      <th>Gasolina superior</th>\n",
       "    </tr>\n",
       "  </thead>\n",
       "  <tbody>\n",
       "    <tr>\n",
       "      <th>288</th>\n",
       "      <td>2024-01-01</td>\n",
       "      <td>1359012.49</td>\n",
       "      <td>548124.45</td>\n",
       "      <td>830708.13</td>\n",
       "      <td>658083.66</td>\n",
       "    </tr>\n",
       "    <tr>\n",
       "      <th>289</th>\n",
       "      <td>2024-02-01</td>\n",
       "      <td>1340174.42</td>\n",
       "      <td>526897.85</td>\n",
       "      <td>818740.16</td>\n",
       "      <td>654059.60</td>\n",
       "    </tr>\n",
       "    <tr>\n",
       "      <th>290</th>\n",
       "      <td>2024-03-01</td>\n",
       "      <td>1393324.52</td>\n",
       "      <td>523990.91</td>\n",
       "      <td>870771.70</td>\n",
       "      <td>671997.05</td>\n",
       "    </tr>\n",
       "    <tr>\n",
       "      <th>291</th>\n",
       "      <td>2024-04-01</td>\n",
       "      <td>1428143.44</td>\n",
       "      <td>531880.19</td>\n",
       "      <td>847353.15</td>\n",
       "      <td>633520.57</td>\n",
       "    </tr>\n",
       "    <tr>\n",
       "      <th>292</th>\n",
       "      <td>2024-05-01</td>\n",
       "      <td>1401052.37</td>\n",
       "      <td>536754.38</td>\n",
       "      <td>894533.14</td>\n",
       "      <td>692427.94</td>\n",
       "    </tr>\n",
       "  </tbody>\n",
       "</table>\n",
       "</div>"
      ]
     },
     "execution_count": 36,
     "metadata": {},
     "output_type": "execute_result"
    }
   ],
   "execution_count": 36
  },
  {
   "metadata": {},
   "cell_type": "markdown",
   "source": "Renombraremos las columnas para facilitar su manipulación.",
   "id": "b0a6083a8a22288c"
  },
  {
   "metadata": {
    "ExecuteTime": {
     "end_time": "2024-08-01T02:26:26.621950Z",
     "start_time": "2024-08-01T02:26:26.610801Z"
    }
   },
   "cell_type": "code",
   "source": [
    "df.columns = ['Fecha', 'Diesel', 'Propano', 'Regular', 'Super']\n",
    "df.head()"
   ],
   "id": "3ec849fced853492",
   "outputs": [
    {
     "data": {
      "text/plain": [
       "       Fecha  Diesel        Propano    Regular      Super\n",
       "0 2000-01-01     0.0  194410.476190  202645.20  308156.82\n",
       "1 2000-02-01     0.0  174710.552381  205530.96  307766.31\n",
       "2 2000-03-01     0.0  189234.066667  229499.56  331910.29\n",
       "3 2000-04-01     0.0  174330.607143  210680.40  315648.08\n",
       "4 2000-05-01     0.0  191745.147619  208164.34  319667.97"
      ],
      "text/html": [
       "<div>\n",
       "<style scoped>\n",
       "    .dataframe tbody tr th:only-of-type {\n",
       "        vertical-align: middle;\n",
       "    }\n",
       "\n",
       "    .dataframe tbody tr th {\n",
       "        vertical-align: top;\n",
       "    }\n",
       "\n",
       "    .dataframe thead th {\n",
       "        text-align: right;\n",
       "    }\n",
       "</style>\n",
       "<table border=\"1\" class=\"dataframe\">\n",
       "  <thead>\n",
       "    <tr style=\"text-align: right;\">\n",
       "      <th></th>\n",
       "      <th>Fecha</th>\n",
       "      <th>Diesel</th>\n",
       "      <th>Propano</th>\n",
       "      <th>Regular</th>\n",
       "      <th>Super</th>\n",
       "    </tr>\n",
       "  </thead>\n",
       "  <tbody>\n",
       "    <tr>\n",
       "      <th>0</th>\n",
       "      <td>2000-01-01</td>\n",
       "      <td>0.0</td>\n",
       "      <td>194410.476190</td>\n",
       "      <td>202645.20</td>\n",
       "      <td>308156.82</td>\n",
       "    </tr>\n",
       "    <tr>\n",
       "      <th>1</th>\n",
       "      <td>2000-02-01</td>\n",
       "      <td>0.0</td>\n",
       "      <td>174710.552381</td>\n",
       "      <td>205530.96</td>\n",
       "      <td>307766.31</td>\n",
       "    </tr>\n",
       "    <tr>\n",
       "      <th>2</th>\n",
       "      <td>2000-03-01</td>\n",
       "      <td>0.0</td>\n",
       "      <td>189234.066667</td>\n",
       "      <td>229499.56</td>\n",
       "      <td>331910.29</td>\n",
       "    </tr>\n",
       "    <tr>\n",
       "      <th>3</th>\n",
       "      <td>2000-04-01</td>\n",
       "      <td>0.0</td>\n",
       "      <td>174330.607143</td>\n",
       "      <td>210680.40</td>\n",
       "      <td>315648.08</td>\n",
       "    </tr>\n",
       "    <tr>\n",
       "      <th>4</th>\n",
       "      <td>2000-05-01</td>\n",
       "      <td>0.0</td>\n",
       "      <td>191745.147619</td>\n",
       "      <td>208164.34</td>\n",
       "      <td>319667.97</td>\n",
       "    </tr>\n",
       "  </tbody>\n",
       "</table>\n",
       "</div>"
      ]
     },
     "execution_count": 37,
     "metadata": {},
     "output_type": "execute_result"
    }
   ],
   "execution_count": 37
  },
  {
   "metadata": {},
   "cell_type": "markdown",
   "source": "Convertimos a una serie de tiempo",
   "id": "664bd53273d1bb7"
  },
  {
   "metadata": {
    "ExecuteTime": {
     "end_time": "2024-08-01T02:26:26.630862Z",
     "start_time": "2024-08-01T02:26:26.623960Z"
    }
   },
   "cell_type": "code",
   "source": [
    "df['Fecha'] = pd.to_datetime(df['Fecha'])\n",
    "df.set_index('Fecha', inplace=True)\n",
    "df.sort_index(inplace=True)"
   ],
   "id": "153bcceb77456a53",
   "outputs": [],
   "execution_count": 38
  },
  {
   "metadata": {
    "ExecuteTime": {
     "end_time": "2024-08-01T02:26:26.637245Z",
     "start_time": "2024-08-01T02:26:26.631882Z"
    }
   },
   "cell_type": "code",
   "source": "df.dropna(inplace=True)",
   "id": "9416a04fd1873aa4",
   "outputs": [],
   "execution_count": 39
  },
  {
   "metadata": {
    "ExecuteTime": {
     "end_time": "2024-08-01T02:26:26.645504Z",
     "start_time": "2024-08-01T02:26:26.638265Z"
    }
   },
   "cell_type": "code",
   "source": "df.to_csv('data/consumo.csv')",
   "id": "e656323f772a12d4",
   "outputs": [],
   "execution_count": 40
  },
  {
   "metadata": {},
   "cell_type": "markdown",
   "source": "## Importación de Productos Derivados del Petróleo",
   "id": "7951eb8bb4e0644b"
  },
  {
   "metadata": {},
   "cell_type": "markdown",
   "source": [
    "En la fila 7 se encuentran los títulos de las columnas. Con datos hasta la fila 288.\n",
    "\n",
    "En la columna A se encuentra la fecha, en la columna L se encuentra la gasolina superior, en la K la gasolina regular, en la G el diesel bajo azufre y el gas propano en la I."
   ],
   "id": "19cfd965435ec986"
  },
  {
   "metadata": {
    "ExecuteTime": {
     "end_time": "2024-08-01T02:26:26.808023Z",
     "start_time": "2024-08-01T02:26:26.646521Z"
    }
   },
   "cell_type": "code",
   "source": "df = pd.read_excel('data/raw/IMPORTACION.xlsx', header=6, nrows=281, usecols='A,G,I,K,L')",
   "id": "41309637efeafcde",
   "outputs": [],
   "execution_count": 41
  },
  {
   "metadata": {
    "ExecuteTime": {
     "end_time": "2024-08-01T02:26:26.817450Z",
     "start_time": "2024-08-01T02:26:26.809031Z"
    }
   },
   "cell_type": "code",
   "source": "df.tail()",
   "id": "4af1cefa583cded9",
   "outputs": [
    {
     "data": {
      "text/plain": [
       "         Fecha  Diesel bajo azufre  Gas licuado de petróleo  Gasolina regular  \\\n",
       "276 2024-01-01          1409097.15                701570.80         914133.32   \n",
       "277 2024-02-01          1236861.75                916541.70         740662.25   \n",
       "278 2024-03-01          1477038.00                675157.48         838270.93   \n",
       "279 2024-04-01          1294706.12                473940.66         886132.77   \n",
       "280 2024-05-01          1470870.09                684864.46         939656.18   \n",
       "\n",
       "     Gasolina superior  \n",
       "276          712333.33  \n",
       "277          650360.11  \n",
       "278          620077.74  \n",
       "279          687017.96  \n",
       "280          696970.30  "
      ],
      "text/html": [
       "<div>\n",
       "<style scoped>\n",
       "    .dataframe tbody tr th:only-of-type {\n",
       "        vertical-align: middle;\n",
       "    }\n",
       "\n",
       "    .dataframe tbody tr th {\n",
       "        vertical-align: top;\n",
       "    }\n",
       "\n",
       "    .dataframe thead th {\n",
       "        text-align: right;\n",
       "    }\n",
       "</style>\n",
       "<table border=\"1\" class=\"dataframe\">\n",
       "  <thead>\n",
       "    <tr style=\"text-align: right;\">\n",
       "      <th></th>\n",
       "      <th>Fecha</th>\n",
       "      <th>Diesel bajo azufre</th>\n",
       "      <th>Gas licuado de petróleo</th>\n",
       "      <th>Gasolina regular</th>\n",
       "      <th>Gasolina superior</th>\n",
       "    </tr>\n",
       "  </thead>\n",
       "  <tbody>\n",
       "    <tr>\n",
       "      <th>276</th>\n",
       "      <td>2024-01-01</td>\n",
       "      <td>1409097.15</td>\n",
       "      <td>701570.80</td>\n",
       "      <td>914133.32</td>\n",
       "      <td>712333.33</td>\n",
       "    </tr>\n",
       "    <tr>\n",
       "      <th>277</th>\n",
       "      <td>2024-02-01</td>\n",
       "      <td>1236861.75</td>\n",
       "      <td>916541.70</td>\n",
       "      <td>740662.25</td>\n",
       "      <td>650360.11</td>\n",
       "    </tr>\n",
       "    <tr>\n",
       "      <th>278</th>\n",
       "      <td>2024-03-01</td>\n",
       "      <td>1477038.00</td>\n",
       "      <td>675157.48</td>\n",
       "      <td>838270.93</td>\n",
       "      <td>620077.74</td>\n",
       "    </tr>\n",
       "    <tr>\n",
       "      <th>279</th>\n",
       "      <td>2024-04-01</td>\n",
       "      <td>1294706.12</td>\n",
       "      <td>473940.66</td>\n",
       "      <td>886132.77</td>\n",
       "      <td>687017.96</td>\n",
       "    </tr>\n",
       "    <tr>\n",
       "      <th>280</th>\n",
       "      <td>2024-05-01</td>\n",
       "      <td>1470870.09</td>\n",
       "      <td>684864.46</td>\n",
       "      <td>939656.18</td>\n",
       "      <td>696970.30</td>\n",
       "    </tr>\n",
       "  </tbody>\n",
       "</table>\n",
       "</div>"
      ]
     },
     "execution_count": 42,
     "metadata": {},
     "output_type": "execute_result"
    }
   ],
   "execution_count": 42
  },
  {
   "metadata": {},
   "cell_type": "markdown",
   "source": "Renombraremos las columnas para facilitar su manipulación.",
   "id": "18c1ca94742c1368"
  },
  {
   "metadata": {
    "ExecuteTime": {
     "end_time": "2024-08-01T02:26:26.828014Z",
     "start_time": "2024-08-01T02:26:26.818458Z"
    }
   },
   "cell_type": "code",
   "source": [
    "df.columns = ['Fecha', 'Diesel', 'Propano', 'Regular', 'Super']\n",
    "df.head()"
   ],
   "id": "f0320efc7286072e",
   "outputs": [
    {
     "data": {
      "text/plain": [
       "       Fecha  Diesel        Propano    Regular      Super\n",
       "0 2001-01-01     0.0  194065.738095  177776.50  373963.96\n",
       "1 2001-02-01     0.0  170703.380952  123115.99  243091.07\n",
       "2 2001-03-01     0.0  161837.371429  161726.42  312084.38\n",
       "3 2001-04-01     0.0  163048.642857  127338.74  285054.89\n",
       "4 2001-05-01     0.0  171518.861905  168730.19  300913.67"
      ],
      "text/html": [
       "<div>\n",
       "<style scoped>\n",
       "    .dataframe tbody tr th:only-of-type {\n",
       "        vertical-align: middle;\n",
       "    }\n",
       "\n",
       "    .dataframe tbody tr th {\n",
       "        vertical-align: top;\n",
       "    }\n",
       "\n",
       "    .dataframe thead th {\n",
       "        text-align: right;\n",
       "    }\n",
       "</style>\n",
       "<table border=\"1\" class=\"dataframe\">\n",
       "  <thead>\n",
       "    <tr style=\"text-align: right;\">\n",
       "      <th></th>\n",
       "      <th>Fecha</th>\n",
       "      <th>Diesel</th>\n",
       "      <th>Propano</th>\n",
       "      <th>Regular</th>\n",
       "      <th>Super</th>\n",
       "    </tr>\n",
       "  </thead>\n",
       "  <tbody>\n",
       "    <tr>\n",
       "      <th>0</th>\n",
       "      <td>2001-01-01</td>\n",
       "      <td>0.0</td>\n",
       "      <td>194065.738095</td>\n",
       "      <td>177776.50</td>\n",
       "      <td>373963.96</td>\n",
       "    </tr>\n",
       "    <tr>\n",
       "      <th>1</th>\n",
       "      <td>2001-02-01</td>\n",
       "      <td>0.0</td>\n",
       "      <td>170703.380952</td>\n",
       "      <td>123115.99</td>\n",
       "      <td>243091.07</td>\n",
       "    </tr>\n",
       "    <tr>\n",
       "      <th>2</th>\n",
       "      <td>2001-03-01</td>\n",
       "      <td>0.0</td>\n",
       "      <td>161837.371429</td>\n",
       "      <td>161726.42</td>\n",
       "      <td>312084.38</td>\n",
       "    </tr>\n",
       "    <tr>\n",
       "      <th>3</th>\n",
       "      <td>2001-04-01</td>\n",
       "      <td>0.0</td>\n",
       "      <td>163048.642857</td>\n",
       "      <td>127338.74</td>\n",
       "      <td>285054.89</td>\n",
       "    </tr>\n",
       "    <tr>\n",
       "      <th>4</th>\n",
       "      <td>2001-05-01</td>\n",
       "      <td>0.0</td>\n",
       "      <td>171518.861905</td>\n",
       "      <td>168730.19</td>\n",
       "      <td>300913.67</td>\n",
       "    </tr>\n",
       "  </tbody>\n",
       "</table>\n",
       "</div>"
      ]
     },
     "execution_count": 43,
     "metadata": {},
     "output_type": "execute_result"
    }
   ],
   "execution_count": 43
  },
  {
   "metadata": {},
   "cell_type": "markdown",
   "source": "Convertimos a una serie de tiempo",
   "id": "288189845102c595"
  },
  {
   "metadata": {
    "ExecuteTime": {
     "end_time": "2024-08-01T02:26:26.834262Z",
     "start_time": "2024-08-01T02:26:26.830030Z"
    }
   },
   "cell_type": "code",
   "source": [
    "df['Fecha'] = pd.to_datetime(df['Fecha'])\n",
    "df.set_index('Fecha', inplace=True)\n",
    "df.sort_index(inplace=True)"
   ],
   "id": "833d117723bee863",
   "outputs": [],
   "execution_count": 44
  },
  {
   "metadata": {
    "ExecuteTime": {
     "end_time": "2024-08-01T02:26:26.841009Z",
     "start_time": "2024-08-01T02:26:26.835282Z"
    }
   },
   "cell_type": "code",
   "source": "df.dropna(inplace=True)",
   "id": "9cb04c6d3a3a8814",
   "outputs": [],
   "execution_count": 45
  },
  {
   "metadata": {
    "ExecuteTime": {
     "end_time": "2024-08-01T02:26:26.902337Z",
     "start_time": "2024-08-01T02:26:26.894028Z"
    }
   },
   "cell_type": "code",
   "source": "df.to_csv('data/importacion.csv')",
   "id": "964d3f84ed4d18b9",
   "outputs": [],
   "execution_count": 46
  },
  {
   "metadata": {},
   "cell_type": "markdown",
   "source": "## Precios de los Productos Derivados del Petróleo",
   "id": "f9c42aa60a1ea9ef"
  },
  {
   "metadata": {},
   "cell_type": "markdown",
   "source": "Un formato no muy amigable, se leerá cada producto por separado. Luego, se unirán en un solo DataFrame.",
   "id": "bd55c028332d68db"
  },
  {
   "metadata": {},
   "cell_type": "markdown",
   "source": "### Gasolina Superior",
   "id": "c460de8647114d09"
  },
  {
   "metadata": {
    "ExecuteTime": {
     "end_time": "2024-08-01T02:26:27.103064Z",
     "start_time": "2024-08-01T02:26:27.076359Z"
    }
   },
   "cell_type": "code",
   "source": "df_super = pd.read_excel('data/raw/PRECIOS.xlsx', header=22, nrows=12, usecols='A:X')",
   "id": "a2d2b1ca8f63a5aa",
   "outputs": [],
   "execution_count": 47
  },
  {
   "metadata": {
    "ExecuteTime": {
     "end_time": "2024-08-01T02:26:27.214992Z",
     "start_time": "2024-08-01T02:26:27.188112Z"
    }
   },
   "cell_type": "code",
   "source": "df_regular = pd.read_excel('data/raw/PRECIOs.xlsx', header=43, nrows=12, usecols='A:X')",
   "id": "bd08047dab325d66",
   "outputs": [],
   "execution_count": 48
  },
  {
   "metadata": {
    "ExecuteTime": {
     "end_time": "2024-08-01T02:26:27.275058Z",
     "start_time": "2024-08-01T02:26:27.255011Z"
    }
   },
   "cell_type": "code",
   "source": "df_diesel = pd.read_excel('data/raw/PRECIOs.xlsx', sheet_name=1, header=1, nrows=12, usecols='A:X')",
   "id": "b0aa690ed2f9ceb3",
   "outputs": [],
   "execution_count": 49
  },
  {
   "metadata": {
    "ExecuteTime": {
     "end_time": "2024-08-01T02:26:27.441781Z",
     "start_time": "2024-08-01T02:26:27.424100Z"
    }
   },
   "cell_type": "code",
   "source": "df_diesel.head()",
   "id": "6037db7954606d8a",
   "outputs": [
    {
     "data": {
      "text/plain": [
       "   MES/AÑO  2002   2003   2004   2005   2006   2007   2008   2009   2010  ...  \\\n",
       "0    ENERO  8.95  10.46  12.19  15.68  19.59  18.68  26.02  19.11  24.13  ...   \n",
       "1  FEBRERO  8.66  11.50  11.90  15.10  19.16  17.64  26.09  17.97  23.59  ...   \n",
       "2    MARZO  8.69  12.83  12.17  16.01  18.51  18.80  27.84  16.73  23.96  ...   \n",
       "3    ABRIL  9.38  12.22  13.71  17.89  19.35  20.34  30.47  16.60  24.56  ...   \n",
       "4     MAYO  9.44  10.63  13.79  18.31  20.38  20.91  32.31  17.33  24.42  ...   \n",
       "\n",
       "    2015   2016   2017   2018   2019   2020   2021   2022   2023   2024  \n",
       "0  18.86  13.65  18.35  20.74  19.87  21.09  18.02  26.40  35.79  29.16  \n",
       "1  19.81  13.02  17.89  20.39  21.09  18.74  19.46  29.29  33.02  30.72  \n",
       "2  20.18  14.80  17.60  20.07  21.86  17.11  21.21  36.21  30.67  29.97  \n",
       "3  20.04  15.12  17.60  21.22  21.94  14.91  20.65  32.95  29.78  29.78  \n",
       "4  21.32  16.26  16.86  22.29  21.97  14.09  21.75  34.83  27.43  28.17  \n",
       "\n",
       "[5 rows x 24 columns]"
      ],
      "text/html": [
       "<div>\n",
       "<style scoped>\n",
       "    .dataframe tbody tr th:only-of-type {\n",
       "        vertical-align: middle;\n",
       "    }\n",
       "\n",
       "    .dataframe tbody tr th {\n",
       "        vertical-align: top;\n",
       "    }\n",
       "\n",
       "    .dataframe thead th {\n",
       "        text-align: right;\n",
       "    }\n",
       "</style>\n",
       "<table border=\"1\" class=\"dataframe\">\n",
       "  <thead>\n",
       "    <tr style=\"text-align: right;\">\n",
       "      <th></th>\n",
       "      <th>MES/AÑO</th>\n",
       "      <th>2002</th>\n",
       "      <th>2003</th>\n",
       "      <th>2004</th>\n",
       "      <th>2005</th>\n",
       "      <th>2006</th>\n",
       "      <th>2007</th>\n",
       "      <th>2008</th>\n",
       "      <th>2009</th>\n",
       "      <th>2010</th>\n",
       "      <th>...</th>\n",
       "      <th>2015</th>\n",
       "      <th>2016</th>\n",
       "      <th>2017</th>\n",
       "      <th>2018</th>\n",
       "      <th>2019</th>\n",
       "      <th>2020</th>\n",
       "      <th>2021</th>\n",
       "      <th>2022</th>\n",
       "      <th>2023</th>\n",
       "      <th>2024</th>\n",
       "    </tr>\n",
       "  </thead>\n",
       "  <tbody>\n",
       "    <tr>\n",
       "      <th>0</th>\n",
       "      <td>ENERO</td>\n",
       "      <td>8.95</td>\n",
       "      <td>10.46</td>\n",
       "      <td>12.19</td>\n",
       "      <td>15.68</td>\n",
       "      <td>19.59</td>\n",
       "      <td>18.68</td>\n",
       "      <td>26.02</td>\n",
       "      <td>19.11</td>\n",
       "      <td>24.13</td>\n",
       "      <td>...</td>\n",
       "      <td>18.86</td>\n",
       "      <td>13.65</td>\n",
       "      <td>18.35</td>\n",
       "      <td>20.74</td>\n",
       "      <td>19.87</td>\n",
       "      <td>21.09</td>\n",
       "      <td>18.02</td>\n",
       "      <td>26.40</td>\n",
       "      <td>35.79</td>\n",
       "      <td>29.16</td>\n",
       "    </tr>\n",
       "    <tr>\n",
       "      <th>1</th>\n",
       "      <td>FEBRERO</td>\n",
       "      <td>8.66</td>\n",
       "      <td>11.50</td>\n",
       "      <td>11.90</td>\n",
       "      <td>15.10</td>\n",
       "      <td>19.16</td>\n",
       "      <td>17.64</td>\n",
       "      <td>26.09</td>\n",
       "      <td>17.97</td>\n",
       "      <td>23.59</td>\n",
       "      <td>...</td>\n",
       "      <td>19.81</td>\n",
       "      <td>13.02</td>\n",
       "      <td>17.89</td>\n",
       "      <td>20.39</td>\n",
       "      <td>21.09</td>\n",
       "      <td>18.74</td>\n",
       "      <td>19.46</td>\n",
       "      <td>29.29</td>\n",
       "      <td>33.02</td>\n",
       "      <td>30.72</td>\n",
       "    </tr>\n",
       "    <tr>\n",
       "      <th>2</th>\n",
       "      <td>MARZO</td>\n",
       "      <td>8.69</td>\n",
       "      <td>12.83</td>\n",
       "      <td>12.17</td>\n",
       "      <td>16.01</td>\n",
       "      <td>18.51</td>\n",
       "      <td>18.80</td>\n",
       "      <td>27.84</td>\n",
       "      <td>16.73</td>\n",
       "      <td>23.96</td>\n",
       "      <td>...</td>\n",
       "      <td>20.18</td>\n",
       "      <td>14.80</td>\n",
       "      <td>17.60</td>\n",
       "      <td>20.07</td>\n",
       "      <td>21.86</td>\n",
       "      <td>17.11</td>\n",
       "      <td>21.21</td>\n",
       "      <td>36.21</td>\n",
       "      <td>30.67</td>\n",
       "      <td>29.97</td>\n",
       "    </tr>\n",
       "    <tr>\n",
       "      <th>3</th>\n",
       "      <td>ABRIL</td>\n",
       "      <td>9.38</td>\n",
       "      <td>12.22</td>\n",
       "      <td>13.71</td>\n",
       "      <td>17.89</td>\n",
       "      <td>19.35</td>\n",
       "      <td>20.34</td>\n",
       "      <td>30.47</td>\n",
       "      <td>16.60</td>\n",
       "      <td>24.56</td>\n",
       "      <td>...</td>\n",
       "      <td>20.04</td>\n",
       "      <td>15.12</td>\n",
       "      <td>17.60</td>\n",
       "      <td>21.22</td>\n",
       "      <td>21.94</td>\n",
       "      <td>14.91</td>\n",
       "      <td>20.65</td>\n",
       "      <td>32.95</td>\n",
       "      <td>29.78</td>\n",
       "      <td>29.78</td>\n",
       "    </tr>\n",
       "    <tr>\n",
       "      <th>4</th>\n",
       "      <td>MAYO</td>\n",
       "      <td>9.44</td>\n",
       "      <td>10.63</td>\n",
       "      <td>13.79</td>\n",
       "      <td>18.31</td>\n",
       "      <td>20.38</td>\n",
       "      <td>20.91</td>\n",
       "      <td>32.31</td>\n",
       "      <td>17.33</td>\n",
       "      <td>24.42</td>\n",
       "      <td>...</td>\n",
       "      <td>21.32</td>\n",
       "      <td>16.26</td>\n",
       "      <td>16.86</td>\n",
       "      <td>22.29</td>\n",
       "      <td>21.97</td>\n",
       "      <td>14.09</td>\n",
       "      <td>21.75</td>\n",
       "      <td>34.83</td>\n",
       "      <td>27.43</td>\n",
       "      <td>28.17</td>\n",
       "    </tr>\n",
       "  </tbody>\n",
       "</table>\n",
       "<p>5 rows × 24 columns</p>\n",
       "</div>"
      ]
     },
     "execution_count": 50,
     "metadata": {},
     "output_type": "execute_result"
    }
   ],
   "execution_count": 50
  },
  {
   "metadata": {},
   "cell_type": "markdown",
   "source": "Necesitamos una función que coloque el dataframe en el formato correcto. ",
   "id": "6aca73dc813967a3"
  },
  {
   "metadata": {
    "ExecuteTime": {
     "end_time": "2024-08-01T02:26:27.493471Z",
     "start_time": "2024-08-01T02:26:27.488798Z"
    }
   },
   "cell_type": "code",
   "source": "df_diesel.at[1, 2002]",
   "id": "b1d5ec4617f5b2cf",
   "outputs": [
    {
     "data": {
      "text/plain": [
       "8.66"
      ]
     },
     "execution_count": 51,
     "metadata": {},
     "output_type": "execute_result"
    }
   ],
   "execution_count": 51
  },
  {
   "metadata": {
    "ExecuteTime": {
     "end_time": "2024-08-01T02:26:27.539422Z",
     "start_time": "2024-08-01T02:26:27.534760Z"
    }
   },
   "cell_type": "code",
   "source": [
    "def format_df(df: pd.DataFrame, product: str) -> pd.DataFrame:\n",
    "    columns = ['Fecha', product]\n",
    "    data = []\n",
    "\n",
    "    for year in df.columns:\n",
    "        for i in range(1, 13):  # Representa los meses\n",
    "            # Omitir la primera columna\n",
    "            if year == 'MES/AÑO':\n",
    "                continue\n",
    "\n",
    "            year = int(year)\n",
    "            timestamp = pd.Timestamp(f'{year}-{i}-01')\n",
    "            price = df.at[i-1, year]\n",
    "            data.append({'Fecha': timestamp, product: price})\n",
    "\n",
    "    # Crear el DataFrame usando la lista de diccionarios\n",
    "    df_temp = pd.DataFrame(data, columns=columns)\n",
    "    return df_temp"
   ],
   "id": "624617ddfb749c06",
   "outputs": [],
   "execution_count": 52
  },
  {
   "metadata": {
    "ExecuteTime": {
     "end_time": "2024-08-01T02:26:27.596611Z",
     "start_time": "2024-08-01T02:26:27.589430Z"
    }
   },
   "cell_type": "code",
   "source": "new_df_super = format_df(df_super, 'Super')",
   "id": "4643323a528f212d",
   "outputs": [],
   "execution_count": 53
  },
  {
   "metadata": {
    "ExecuteTime": {
     "end_time": "2024-08-01T02:26:27.763809Z",
     "start_time": "2024-08-01T02:26:27.756672Z"
    }
   },
   "cell_type": "code",
   "source": "new_df_regular = format_df(df_regular, 'Regular')",
   "id": "42516906476091ae",
   "outputs": [],
   "execution_count": 54
  },
  {
   "metadata": {
    "ExecuteTime": {
     "end_time": "2024-08-01T02:26:27.836775Z",
     "start_time": "2024-08-01T02:26:27.828818Z"
    }
   },
   "cell_type": "code",
   "source": "new_df_diesel = format_df(df_diesel, 'Diesel')",
   "id": "4ae941add4d23e2e",
   "outputs": [],
   "execution_count": 55
  },
  {
   "metadata": {},
   "cell_type": "markdown",
   "source": "Unimos los DataFrames",
   "id": "848a63538e10e6e7"
  },
  {
   "metadata": {
    "ExecuteTime": {
     "end_time": "2024-08-01T02:26:27.880533Z",
     "start_time": "2024-08-01T02:26:27.872789Z"
    }
   },
   "cell_type": "code",
   "source": [
    "df = pd.merge(new_df_super, new_df_regular, on='Fecha')\n",
    "df = pd.merge(df, new_df_diesel, on='Fecha')"
   ],
   "id": "d265c194ef9e93b4",
   "outputs": [],
   "execution_count": 56
  },
  {
   "metadata": {
    "ExecuteTime": {
     "end_time": "2024-08-01T02:26:27.902413Z",
     "start_time": "2024-08-01T02:26:27.894582Z"
    }
   },
   "cell_type": "code",
   "source": "df.head()",
   "id": "61e093df4656afb9",
   "outputs": [
    {
     "data": {
      "text/plain": [
       "       Fecha  Super  Regular  Diesel\n",
       "0 2002-01-01  12.55    12.19    8.95\n",
       "1 2002-02-01  12.29    11.90    8.66\n",
       "2 2002-03-01  12.58    12.17    8.69\n",
       "3 2002-04-01  14.11    13.71    9.38\n",
       "4 2002-05-01  14.16    13.79    9.44"
      ],
      "text/html": [
       "<div>\n",
       "<style scoped>\n",
       "    .dataframe tbody tr th:only-of-type {\n",
       "        vertical-align: middle;\n",
       "    }\n",
       "\n",
       "    .dataframe tbody tr th {\n",
       "        vertical-align: top;\n",
       "    }\n",
       "\n",
       "    .dataframe thead th {\n",
       "        text-align: right;\n",
       "    }\n",
       "</style>\n",
       "<table border=\"1\" class=\"dataframe\">\n",
       "  <thead>\n",
       "    <tr style=\"text-align: right;\">\n",
       "      <th></th>\n",
       "      <th>Fecha</th>\n",
       "      <th>Super</th>\n",
       "      <th>Regular</th>\n",
       "      <th>Diesel</th>\n",
       "    </tr>\n",
       "  </thead>\n",
       "  <tbody>\n",
       "    <tr>\n",
       "      <th>0</th>\n",
       "      <td>2002-01-01</td>\n",
       "      <td>12.55</td>\n",
       "      <td>12.19</td>\n",
       "      <td>8.95</td>\n",
       "    </tr>\n",
       "    <tr>\n",
       "      <th>1</th>\n",
       "      <td>2002-02-01</td>\n",
       "      <td>12.29</td>\n",
       "      <td>11.90</td>\n",
       "      <td>8.66</td>\n",
       "    </tr>\n",
       "    <tr>\n",
       "      <th>2</th>\n",
       "      <td>2002-03-01</td>\n",
       "      <td>12.58</td>\n",
       "      <td>12.17</td>\n",
       "      <td>8.69</td>\n",
       "    </tr>\n",
       "    <tr>\n",
       "      <th>3</th>\n",
       "      <td>2002-04-01</td>\n",
       "      <td>14.11</td>\n",
       "      <td>13.71</td>\n",
       "      <td>9.38</td>\n",
       "    </tr>\n",
       "    <tr>\n",
       "      <th>4</th>\n",
       "      <td>2002-05-01</td>\n",
       "      <td>14.16</td>\n",
       "      <td>13.79</td>\n",
       "      <td>9.44</td>\n",
       "    </tr>\n",
       "  </tbody>\n",
       "</table>\n",
       "</div>"
      ]
     },
     "execution_count": 57,
     "metadata": {},
     "output_type": "execute_result"
    }
   ],
   "execution_count": 57
  },
  {
   "metadata": {
    "ExecuteTime": {
     "end_time": "2024-08-01T02:26:27.929834Z",
     "start_time": "2024-08-01T02:26:27.925419Z"
    }
   },
   "cell_type": "code",
   "source": [
    "df.set_index('Fecha', inplace=True)\n",
    "df.sort_index(inplace=True)"
   ],
   "id": "70cf90cea4c1afe1",
   "outputs": [],
   "execution_count": 58
  },
  {
   "metadata": {
    "ExecuteTime": {
     "end_time": "2024-08-01T02:26:27.957660Z",
     "start_time": "2024-08-01T02:26:27.953841Z"
    }
   },
   "cell_type": "code",
   "source": "df.dropna(inplace=True)",
   "id": "e400884a07ee4661",
   "outputs": [],
   "execution_count": 59
  },
  {
   "metadata": {
    "ExecuteTime": {
     "end_time": "2024-08-01T02:26:27.967539Z",
     "start_time": "2024-08-01T02:26:27.961668Z"
    }
   },
   "cell_type": "code",
   "source": "df.to_csv('data/precios.csv')",
   "id": "b7b8373acdb494e2",
   "outputs": [],
   "execution_count": 60
  }
 ],
 "metadata": {
  "kernelspec": {
   "display_name": "Python 3",
   "language": "python",
   "name": "python3"
  },
  "language_info": {
   "codemirror_mode": {
    "name": "ipython",
    "version": 2
   },
   "file_extension": ".py",
   "mimetype": "text/x-python",
   "name": "python",
   "nbconvert_exporter": "python",
   "pygments_lexer": "ipython2",
   "version": "2.7.6"
  }
 },
 "nbformat": 4,
 "nbformat_minor": 5
}
